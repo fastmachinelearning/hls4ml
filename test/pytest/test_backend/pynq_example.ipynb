{
 "cells": [
  {
   "cell_type": "code",
   "execution_count": 1,
   "id": "a0e69eaf",
   "metadata": {},
   "outputs": [],
   "source": [
    "# import the library\n",
    "from pynq import Overlay     # import the overlay\n",
    "from pynq import allocate    # import for CMA (contingeous memory allocation)\n",
    "from pynq import DefaultIP   # import the ip connector library for extension\n",
    "from pynq import Interrupt\n",
    "import pynq_driver\n",
    "import asyncio\n",
    "import numpy as np\n",
    "import os\n",
    "import subprocess\n",
    "import re\n",
    "import time"
   ]
  },
  {
   "cell_type": "code",
   "execution_count": 2,
   "id": "89082d04",
   "metadata": {},
   "outputs": [
    {
     "data": {
      "application/javascript": [
       "\n",
       "try {\n",
       "require(['notebook/js/codecell'], function(codecell) {\n",
       "  codecell.CodeCell.options_default.highlight_modes[\n",
       "      'magic_text/x-csrc'] = {'reg':[/^%%microblaze/]};\n",
       "  Jupyter.notebook.events.one('kernel_ready.Kernel', function(){\n",
       "      Jupyter.notebook.get_cells().map(function(cell){\n",
       "          if (cell.cell_type == 'code'){ cell.auto_highlight(); } }) ;\n",
       "  });\n",
       "});\n",
       "} catch (e) {};\n"
      ]
     },
     "metadata": {},
     "output_type": "display_data"
    },
    {
     "data": {
      "application/javascript": [
       "\n",
       "try {\n",
       "require(['notebook/js/codecell'], function(codecell) {\n",
       "  codecell.CodeCell.options_default.highlight_modes[\n",
       "      'magic_text/x-csrc'] = {'reg':[/^%%pybind11/]};\n",
       "  Jupyter.notebook.events.one('kernel_ready.Kernel', function(){\n",
       "      Jupyter.notebook.get_cells().map(function(cell){\n",
       "          if (cell.cell_type == 'code'){ cell.auto_highlight(); } }) ;\n",
       "  });\n",
       "});\n",
       "} catch (e) {};\n"
      ]
     },
     "metadata": {},
     "output_type": "display_data"
    },
    {
     "name": "stdout",
     "output_type": "stream",
     "text": [
      "Help on Overlay in module pynq.overlay:\n",
      "\n",
      "<pynq.overlay.Overlay object>\n",
      "    Default documentation for overlay system.bit. The following\n",
      "    attributes are available on this overlay:\n",
      "    \n",
      "    IP Blocks\n",
      "    ----------\n",
      "    myproject_gem_1      : pynq_driver.MyDfxCtrl\n",
      "    axi_intc_0           : pynq.overlay.DefaultIP\n",
      "    ps_e                 : pynq.overlay.DefaultIP\n",
      "    \n",
      "    Hierarchies\n",
      "    -----------\n",
      "    None\n",
      "    \n",
      "    Interrupts\n",
      "    ----------\n",
      "    None\n",
      "    \n",
      "    GPIO Outputs\n",
      "    ------------\n",
      "    None\n",
      "    \n",
      "    Memories\n",
      "    ------------\n",
      "    PSDDR                : Memory\n",
      "\n"
     ]
    }
   ],
   "source": [
    "overlay = Overlay(\"system.bit\")\n",
    "help(overlay)"
   ]
  },
  {
   "cell_type": "code",
   "execution_count": 3,
   "id": "b19361e3",
   "metadata": {},
   "outputs": [
    {
     "data": {
      "application/json": {
       "axi_intc_0_intr_1_interrupt_concat/In0": {
        "controller": "axi_intc_0",
        "fullpath": "axi_intc_0_intr_1_interrupt_concat/In0",
        "index": 0
       },
       "axi_intc_0_intr_1_interrupt_concat/In1": {
        "controller": "axi_intc_0",
        "fullpath": "axi_intc_0_intr_1_interrupt_concat/In1",
        "index": 1
       },
       "axi_intc_0_intr_1_interrupt_concat/In10": {
        "controller": "axi_intc_0",
        "fullpath": "axi_intc_0_intr_1_interrupt_concat/In10",
        "index": 10
       },
       "axi_intc_0_intr_1_interrupt_concat/In11": {
        "controller": "axi_intc_0",
        "fullpath": "axi_intc_0_intr_1_interrupt_concat/In11",
        "index": 11
       },
       "axi_intc_0_intr_1_interrupt_concat/In12": {
        "controller": "axi_intc_0",
        "fullpath": "axi_intc_0_intr_1_interrupt_concat/In12",
        "index": 12
       },
       "axi_intc_0_intr_1_interrupt_concat/In13": {
        "controller": "axi_intc_0",
        "fullpath": "axi_intc_0_intr_1_interrupt_concat/In13",
        "index": 13
       },
       "axi_intc_0_intr_1_interrupt_concat/In14": {
        "controller": "axi_intc_0",
        "fullpath": "axi_intc_0_intr_1_interrupt_concat/In14",
        "index": 14
       },
       "axi_intc_0_intr_1_interrupt_concat/In15": {
        "controller": "axi_intc_0",
        "fullpath": "axi_intc_0_intr_1_interrupt_concat/In15",
        "index": 15
       },
       "axi_intc_0_intr_1_interrupt_concat/In16": {
        "controller": "axi_intc_0",
        "fullpath": "axi_intc_0_intr_1_interrupt_concat/In16",
        "index": 16
       },
       "axi_intc_0_intr_1_interrupt_concat/In17": {
        "controller": "axi_intc_0",
        "fullpath": "axi_intc_0_intr_1_interrupt_concat/In17",
        "index": 17
       },
       "axi_intc_0_intr_1_interrupt_concat/In18": {
        "controller": "axi_intc_0",
        "fullpath": "axi_intc_0_intr_1_interrupt_concat/In18",
        "index": 18
       },
       "axi_intc_0_intr_1_interrupt_concat/In19": {
        "controller": "axi_intc_0",
        "fullpath": "axi_intc_0_intr_1_interrupt_concat/In19",
        "index": 19
       },
       "axi_intc_0_intr_1_interrupt_concat/In2": {
        "controller": "axi_intc_0",
        "fullpath": "axi_intc_0_intr_1_interrupt_concat/In2",
        "index": 2
       },
       "axi_intc_0_intr_1_interrupt_concat/In20": {
        "controller": "axi_intc_0",
        "fullpath": "axi_intc_0_intr_1_interrupt_concat/In20",
        "index": 20
       },
       "axi_intc_0_intr_1_interrupt_concat/In21": {
        "controller": "axi_intc_0",
        "fullpath": "axi_intc_0_intr_1_interrupt_concat/In21",
        "index": 21
       },
       "axi_intc_0_intr_1_interrupt_concat/In22": {
        "controller": "axi_intc_0",
        "fullpath": "axi_intc_0_intr_1_interrupt_concat/In22",
        "index": 22
       },
       "axi_intc_0_intr_1_interrupt_concat/In23": {
        "controller": "axi_intc_0",
        "fullpath": "axi_intc_0_intr_1_interrupt_concat/In23",
        "index": 23
       },
       "axi_intc_0_intr_1_interrupt_concat/In24": {
        "controller": "axi_intc_0",
        "fullpath": "axi_intc_0_intr_1_interrupt_concat/In24",
        "index": 24
       },
       "axi_intc_0_intr_1_interrupt_concat/In25": {
        "controller": "axi_intc_0",
        "fullpath": "axi_intc_0_intr_1_interrupt_concat/In25",
        "index": 25
       },
       "axi_intc_0_intr_1_interrupt_concat/In26": {
        "controller": "axi_intc_0",
        "fullpath": "axi_intc_0_intr_1_interrupt_concat/In26",
        "index": 26
       },
       "axi_intc_0_intr_1_interrupt_concat/In27": {
        "controller": "axi_intc_0",
        "fullpath": "axi_intc_0_intr_1_interrupt_concat/In27",
        "index": 27
       },
       "axi_intc_0_intr_1_interrupt_concat/In28": {
        "controller": "axi_intc_0",
        "fullpath": "axi_intc_0_intr_1_interrupt_concat/In28",
        "index": 28
       },
       "axi_intc_0_intr_1_interrupt_concat/In29": {
        "controller": "axi_intc_0",
        "fullpath": "axi_intc_0_intr_1_interrupt_concat/In29",
        "index": 29
       },
       "axi_intc_0_intr_1_interrupt_concat/In3": {
        "controller": "axi_intc_0",
        "fullpath": "axi_intc_0_intr_1_interrupt_concat/In3",
        "index": 3
       },
       "axi_intc_0_intr_1_interrupt_concat/In30": {
        "controller": "axi_intc_0",
        "fullpath": "axi_intc_0_intr_1_interrupt_concat/In30",
        "index": 30
       },
       "axi_intc_0_intr_1_interrupt_concat/In31": {
        "controller": "axi_intc_0",
        "fullpath": "axi_intc_0_intr_1_interrupt_concat/In31",
        "index": 31
       },
       "axi_intc_0_intr_1_interrupt_concat/In4": {
        "controller": "axi_intc_0",
        "fullpath": "axi_intc_0_intr_1_interrupt_concat/In4",
        "index": 4
       },
       "axi_intc_0_intr_1_interrupt_concat/In5": {
        "controller": "axi_intc_0",
        "fullpath": "axi_intc_0_intr_1_interrupt_concat/In5",
        "index": 5
       },
       "axi_intc_0_intr_1_interrupt_concat/In6": {
        "controller": "axi_intc_0",
        "fullpath": "axi_intc_0_intr_1_interrupt_concat/In6",
        "index": 6
       },
       "axi_intc_0_intr_1_interrupt_concat/In7": {
        "controller": "axi_intc_0",
        "fullpath": "axi_intc_0_intr_1_interrupt_concat/In7",
        "index": 7
       },
       "axi_intc_0_intr_1_interrupt_concat/In8": {
        "controller": "axi_intc_0",
        "fullpath": "axi_intc_0_intr_1_interrupt_concat/In8",
        "index": 8
       },
       "axi_intc_0_intr_1_interrupt_concat/In9": {
        "controller": "axi_intc_0",
        "fullpath": "axi_intc_0_intr_1_interrupt_concat/In9",
        "index": 9
       },
       "irq_const_tieoff/dout": {
        "controller": "axi_intc_0",
        "fullpath": "irq_const_tieoff/dout",
        "index": 31
       },
       "myproject_gem_1/interrupt": {
        "controller": "axi_intc_0",
        "fullpath": "myproject_gem_1/interrupt",
        "index": 1
       }
      },
      "text/plain": [
       "{'irq_const_tieoff/dout': {'controller': 'axi_intc_0',\n",
       "  'index': 31,\n",
       "  'fullpath': 'irq_const_tieoff/dout'},\n",
       " 'axi_intc_0_intr_1_interrupt_concat/In0': {'controller': 'axi_intc_0',\n",
       "  'index': 0,\n",
       "  'fullpath': 'axi_intc_0_intr_1_interrupt_concat/In0'},\n",
       " 'myproject_gem_1/interrupt': {'controller': 'axi_intc_0',\n",
       "  'index': 1,\n",
       "  'fullpath': 'myproject_gem_1/interrupt'},\n",
       " 'axi_intc_0_intr_1_interrupt_concat/In1': {'controller': 'axi_intc_0',\n",
       "  'index': 1,\n",
       "  'fullpath': 'axi_intc_0_intr_1_interrupt_concat/In1'},\n",
       " 'axi_intc_0_intr_1_interrupt_concat/In2': {'controller': 'axi_intc_0',\n",
       "  'index': 2,\n",
       "  'fullpath': 'axi_intc_0_intr_1_interrupt_concat/In2'},\n",
       " 'axi_intc_0_intr_1_interrupt_concat/In3': {'controller': 'axi_intc_0',\n",
       "  'index': 3,\n",
       "  'fullpath': 'axi_intc_0_intr_1_interrupt_concat/In3'},\n",
       " 'axi_intc_0_intr_1_interrupt_concat/In4': {'controller': 'axi_intc_0',\n",
       "  'index': 4,\n",
       "  'fullpath': 'axi_intc_0_intr_1_interrupt_concat/In4'},\n",
       " 'axi_intc_0_intr_1_interrupt_concat/In5': {'controller': 'axi_intc_0',\n",
       "  'index': 5,\n",
       "  'fullpath': 'axi_intc_0_intr_1_interrupt_concat/In5'},\n",
       " 'axi_intc_0_intr_1_interrupt_concat/In6': {'controller': 'axi_intc_0',\n",
       "  'index': 6,\n",
       "  'fullpath': 'axi_intc_0_intr_1_interrupt_concat/In6'},\n",
       " 'axi_intc_0_intr_1_interrupt_concat/In7': {'controller': 'axi_intc_0',\n",
       "  'index': 7,\n",
       "  'fullpath': 'axi_intc_0_intr_1_interrupt_concat/In7'},\n",
       " 'axi_intc_0_intr_1_interrupt_concat/In8': {'controller': 'axi_intc_0',\n",
       "  'index': 8,\n",
       "  'fullpath': 'axi_intc_0_intr_1_interrupt_concat/In8'},\n",
       " 'axi_intc_0_intr_1_interrupt_concat/In9': {'controller': 'axi_intc_0',\n",
       "  'index': 9,\n",
       "  'fullpath': 'axi_intc_0_intr_1_interrupt_concat/In9'},\n",
       " 'axi_intc_0_intr_1_interrupt_concat/In10': {'controller': 'axi_intc_0',\n",
       "  'index': 10,\n",
       "  'fullpath': 'axi_intc_0_intr_1_interrupt_concat/In10'},\n",
       " 'axi_intc_0_intr_1_interrupt_concat/In11': {'controller': 'axi_intc_0',\n",
       "  'index': 11,\n",
       "  'fullpath': 'axi_intc_0_intr_1_interrupt_concat/In11'},\n",
       " 'axi_intc_0_intr_1_interrupt_concat/In12': {'controller': 'axi_intc_0',\n",
       "  'index': 12,\n",
       "  'fullpath': 'axi_intc_0_intr_1_interrupt_concat/In12'},\n",
       " 'axi_intc_0_intr_1_interrupt_concat/In13': {'controller': 'axi_intc_0',\n",
       "  'index': 13,\n",
       "  'fullpath': 'axi_intc_0_intr_1_interrupt_concat/In13'},\n",
       " 'axi_intc_0_intr_1_interrupt_concat/In14': {'controller': 'axi_intc_0',\n",
       "  'index': 14,\n",
       "  'fullpath': 'axi_intc_0_intr_1_interrupt_concat/In14'},\n",
       " 'axi_intc_0_intr_1_interrupt_concat/In15': {'controller': 'axi_intc_0',\n",
       "  'index': 15,\n",
       "  'fullpath': 'axi_intc_0_intr_1_interrupt_concat/In15'},\n",
       " 'axi_intc_0_intr_1_interrupt_concat/In16': {'controller': 'axi_intc_0',\n",
       "  'index': 16,\n",
       "  'fullpath': 'axi_intc_0_intr_1_interrupt_concat/In16'},\n",
       " 'axi_intc_0_intr_1_interrupt_concat/In17': {'controller': 'axi_intc_0',\n",
       "  'index': 17,\n",
       "  'fullpath': 'axi_intc_0_intr_1_interrupt_concat/In17'},\n",
       " 'axi_intc_0_intr_1_interrupt_concat/In18': {'controller': 'axi_intc_0',\n",
       "  'index': 18,\n",
       "  'fullpath': 'axi_intc_0_intr_1_interrupt_concat/In18'},\n",
       " 'axi_intc_0_intr_1_interrupt_concat/In19': {'controller': 'axi_intc_0',\n",
       "  'index': 19,\n",
       "  'fullpath': 'axi_intc_0_intr_1_interrupt_concat/In19'},\n",
       " 'axi_intc_0_intr_1_interrupt_concat/In20': {'controller': 'axi_intc_0',\n",
       "  'index': 20,\n",
       "  'fullpath': 'axi_intc_0_intr_1_interrupt_concat/In20'},\n",
       " 'axi_intc_0_intr_1_interrupt_concat/In21': {'controller': 'axi_intc_0',\n",
       "  'index': 21,\n",
       "  'fullpath': 'axi_intc_0_intr_1_interrupt_concat/In21'},\n",
       " 'axi_intc_0_intr_1_interrupt_concat/In22': {'controller': 'axi_intc_0',\n",
       "  'index': 22,\n",
       "  'fullpath': 'axi_intc_0_intr_1_interrupt_concat/In22'},\n",
       " 'axi_intc_0_intr_1_interrupt_concat/In23': {'controller': 'axi_intc_0',\n",
       "  'index': 23,\n",
       "  'fullpath': 'axi_intc_0_intr_1_interrupt_concat/In23'},\n",
       " 'axi_intc_0_intr_1_interrupt_concat/In24': {'controller': 'axi_intc_0',\n",
       "  'index': 24,\n",
       "  'fullpath': 'axi_intc_0_intr_1_interrupt_concat/In24'},\n",
       " 'axi_intc_0_intr_1_interrupt_concat/In25': {'controller': 'axi_intc_0',\n",
       "  'index': 25,\n",
       "  'fullpath': 'axi_intc_0_intr_1_interrupt_concat/In25'},\n",
       " 'axi_intc_0_intr_1_interrupt_concat/In26': {'controller': 'axi_intc_0',\n",
       "  'index': 26,\n",
       "  'fullpath': 'axi_intc_0_intr_1_interrupt_concat/In26'},\n",
       " 'axi_intc_0_intr_1_interrupt_concat/In27': {'controller': 'axi_intc_0',\n",
       "  'index': 27,\n",
       "  'fullpath': 'axi_intc_0_intr_1_interrupt_concat/In27'},\n",
       " 'axi_intc_0_intr_1_interrupt_concat/In28': {'controller': 'axi_intc_0',\n",
       "  'index': 28,\n",
       "  'fullpath': 'axi_intc_0_intr_1_interrupt_concat/In28'},\n",
       " 'axi_intc_0_intr_1_interrupt_concat/In29': {'controller': 'axi_intc_0',\n",
       "  'index': 29,\n",
       "  'fullpath': 'axi_intc_0_intr_1_interrupt_concat/In29'},\n",
       " 'axi_intc_0_intr_1_interrupt_concat/In30': {'controller': 'axi_intc_0',\n",
       "  'index': 30,\n",
       "  'fullpath': 'axi_intc_0_intr_1_interrupt_concat/In30'},\n",
       " 'axi_intc_0_intr_1_interrupt_concat/In31': {'controller': 'axi_intc_0',\n",
       "  'index': 31,\n",
       "  'fullpath': 'axi_intc_0_intr_1_interrupt_concat/In31'}}"
      ]
     },
     "execution_count": 3,
     "metadata": {
      "application/json": {
       "expanded": false,
       "root": "interrupt_pins"
      }
     },
     "output_type": "execute_result"
    }
   ],
   "source": [
    "\n",
    "overlay.interrupt_pins"
   ]
  },
  {
   "cell_type": "code",
   "execution_count": 4,
   "id": "0e5b0e03",
   "metadata": {},
   "outputs": [],
   "source": [
    "# create an instance of the interrupt\n",
    "my_interrupt = Interrupt('myproject_gem_1/interrupt')"
   ]
  },
  {
   "cell_type": "code",
   "execution_count": 5,
   "id": "9459e8ae",
   "metadata": {},
   "outputs": [],
   "source": [
    "# Load input from .npy file\n",
    "input_array  = np.load(\"inputGenbit.npy\").astype(np.float32)  # shape (20,4,4,1)\n",
    "output_array = np.zeros(input_array.shape, dtype=np.float32)\n",
    "\n",
    "# Allocate physically contiguous memory for input and output\n",
    "input_buffer = allocate(shape=input_array.shape, dtype=np.float32)\n",
    "output_buffer = allocate(shape=output_array.shape, dtype=np.float32)"
   ]
  },
  {
   "cell_type": "code",
   "execution_count": 6,
   "id": "625c2b1f",
   "metadata": {},
   "outputs": [
    {
     "name": "stdout",
     "output_type": "stream",
     "text": [
      "input array shape (10000, 4, 4, 1)\n",
      "output array shape (10000, 4, 4, 1)\n"
     ]
    }
   ],
   "source": [
    "# check input shape\n",
    "print(f\"input array shape {input_array.shape}\")\n",
    "print(f\"output array shape {output_array.shape}\")"
   ]
  },
  {
   "cell_type": "code",
   "execution_count": 7,
   "id": "7de66a89",
   "metadata": {},
   "outputs": [],
   "source": [
    "# copy data to input buffer\n",
    "np.copyto(input_buffer, input_array)\n",
    "input_buffer.flush()"
   ]
  },
  {
   "cell_type": "code",
   "execution_count": 8,
   "id": "d18bac75",
   "metadata": {},
   "outputs": [
    {
     "name": "stdout",
     "output_type": "stream",
     "text": [
      "input gmem_in0_ptr_input_1 will be set to addr: 0x78400000 with elements: 160000\n",
      "output gmem_out0_ptr_layer12_out will be set to addr: 0x78500000 with elements: 160000\n",
      "amount of queries will be set to: 10000 at address: 0x28\n",
      "prepare your interrupt\n",
      "global interrupt enable register\n",
      "enable gie successful\n",
      "ap_done interrupt enable register\n",
      "enable ap_done interrupt successful\n",
      "ap_done register clear\n",
      "clear ap_done interrupt successful\n",
      "----------------------\n"
     ]
    }
   ],
   "source": [
    "# get the ip and initialize the system\n",
    "ip = overlay.myproject_gem_1  # Replace with your IP instance name\n",
    "ip.set_input (0, input_buffer)\n",
    "ip.set_output(0, output_buffer)\n",
    "ip.set_amt_query(input_array.shape[0])\n",
    "ip.prepare_intr()"
   ]
  },
  {
   "cell_type": "code",
   "execution_count": 9,
   "id": "d12a031a",
   "metadata": {},
   "outputs": [],
   "source": [
    "async def wait_for_acc():\n",
    "    print(\"starting the accelerator\")\n",
    "    ip.ctrl_start()\n",
    "    print(\"waiting for the accelerator to finish\")\n",
    "    await my_interrupt.wait()\n",
    "    print(\"accelerator has finished\")\n"
   ]
  },
  {
   "cell_type": "code",
   "execution_count": 10,
   "id": "81750e60",
   "metadata": {},
   "outputs": [],
   "source": [
    "#### get event loop from asyncio\n",
    "loop = asyncio.get_event_loop()"
   ]
  },
  {
   "cell_type": "code",
   "execution_count": 11,
   "id": "fe5f7eb2",
   "metadata": {},
   "outputs": [
    {
     "name": "stdout",
     "output_type": "stream",
     "text": [
      "starting the accelerator\n",
      "waiting for the accelerator to finish\n",
      "accelerator has finished\n"
     ]
    }
   ],
   "source": [
    "task = loop.create_task(wait_for_acc())\n",
    "loop.run_until_complete(task)"
   ]
  },
  {
   "cell_type": "code",
   "execution_count": 12,
   "id": "372b1982",
   "metadata": {},
   "outputs": [],
   "source": [
    "output_buffer.invalidate()"
   ]
  },
  {
   "cell_type": "code",
   "execution_count": 13,
   "id": "6a7834c2",
   "metadata": {},
   "outputs": [
    {
     "name": "stdout",
     "output_type": "stream",
     "text": [
      "[[[[0.5       ]\n",
      "   [0.5       ]\n",
      "   [0.5       ]\n",
      "   [0.5       ]]\n",
      "\n",
      "  [[0.5       ]\n",
      "   [0.5       ]\n",
      "   [0.5       ]\n",
      "   [0.5       ]]\n",
      "\n",
      "  [[0.5       ]\n",
      "   [0.5       ]\n",
      "   [0.5       ]\n",
      "   [0.49609375]]\n",
      "\n",
      "  [[0.5       ]\n",
      "   [0.5       ]\n",
      "   [0.4921875 ]\n",
      "   [0.4765625 ]]]\n",
      "\n",
      "\n",
      " [[[0.5       ]\n",
      "   [0.5       ]\n",
      "   [0.5       ]\n",
      "   [0.5       ]]\n",
      "\n",
      "  [[0.5       ]\n",
      "   [0.5       ]\n",
      "   [0.5       ]\n",
      "   [0.5       ]]\n",
      "\n",
      "  [[0.5       ]\n",
      "   [0.5       ]\n",
      "   [0.5       ]\n",
      "   [0.5       ]]\n",
      "\n",
      "  [[0.5       ]\n",
      "   [0.5       ]\n",
      "   [0.48046875]\n",
      "   [0.48046875]]]\n",
      "\n",
      "\n",
      " [[[0.5       ]\n",
      "   [0.5       ]\n",
      "   [0.5       ]\n",
      "   [0.5       ]]\n",
      "\n",
      "  [[0.5       ]\n",
      "   [0.5       ]\n",
      "   [0.5       ]\n",
      "   [0.49609375]]\n",
      "\n",
      "  [[0.5       ]\n",
      "   [0.5       ]\n",
      "   [0.5       ]\n",
      "   [0.48828125]]\n",
      "\n",
      "  [[0.5       ]\n",
      "   [0.5       ]\n",
      "   [0.5       ]\n",
      "   [0.4921875 ]]]\n",
      "\n",
      "\n",
      " ...\n",
      "\n",
      "\n",
      " [[[0.5       ]\n",
      "   [0.5       ]\n",
      "   [0.5       ]\n",
      "   [0.5       ]]\n",
      "\n",
      "  [[0.5       ]\n",
      "   [0.5       ]\n",
      "   [0.5       ]\n",
      "   [0.5       ]]\n",
      "\n",
      "  [[0.5       ]\n",
      "   [0.5       ]\n",
      "   [0.5       ]\n",
      "   [0.48046875]]\n",
      "\n",
      "  [[0.5       ]\n",
      "   [0.5       ]\n",
      "   [0.4921875 ]\n",
      "   [0.46875   ]]]\n",
      "\n",
      "\n",
      " [[[0.5       ]\n",
      "   [0.5       ]\n",
      "   [0.5       ]\n",
      "   [0.5       ]]\n",
      "\n",
      "  [[0.5       ]\n",
      "   [0.5       ]\n",
      "   [0.5       ]\n",
      "   [0.5       ]]\n",
      "\n",
      "  [[0.5       ]\n",
      "   [0.5       ]\n",
      "   [0.5       ]\n",
      "   [0.48046875]]\n",
      "\n",
      "  [[0.5       ]\n",
      "   [0.5       ]\n",
      "   [0.49609375]\n",
      "   [0.484375  ]]]\n",
      "\n",
      "\n",
      " [[[0.5       ]\n",
      "   [0.5       ]\n",
      "   [0.5       ]\n",
      "   [0.5       ]]\n",
      "\n",
      "  [[0.5       ]\n",
      "   [0.5       ]\n",
      "   [0.5       ]\n",
      "   [0.5       ]]\n",
      "\n",
      "  [[0.5       ]\n",
      "   [0.5       ]\n",
      "   [0.5       ]\n",
      "   [0.49609375]]\n",
      "\n",
      "  [[0.5       ]\n",
      "   [0.5       ]\n",
      "   [0.48828125]\n",
      "   [0.48828125]]]]\n"
     ]
    }
   ],
   "source": [
    "print(output_buffer)"
   ]
  },
  {
   "cell_type": "code",
   "execution_count": 14,
   "id": "31e1098e",
   "metadata": {},
   "outputs": [
    {
     "name": "stdout",
     "output_type": "stream",
     "text": [
      "we got output shape: (10000, 4, 4, 1)\n"
     ]
    }
   ],
   "source": [
    "# convert it to numpy array\n",
    "print(\"we got output shape:\", output_buffer.shape)\n",
    "outNp = np.array(output_buffer)"
   ]
  },
  {
   "cell_type": "code",
   "execution_count": 15,
   "id": "9bf5d406",
   "metadata": {},
   "outputs": [],
   "source": [
    "# save it to .npy file\n",
    "np.save(\"out_hw.npy\", outNp)"
   ]
  }
 ],
 "metadata": {
  "kernelspec": {
   "display_name": "Python 3 (ipykernel)",
   "language": "python",
   "name": "python3"
  },
  "language_info": {
   "codemirror_mode": {
    "name": "ipython",
    "version": 3
   },
   "file_extension": ".py",
   "mimetype": "text/x-python",
   "name": "python",
   "nbconvert_exporter": "python",
   "pygments_lexer": "ipython3",
   "version": "3.10.4"
  }
 },
 "nbformat": 4,
 "nbformat_minor": 5
}
